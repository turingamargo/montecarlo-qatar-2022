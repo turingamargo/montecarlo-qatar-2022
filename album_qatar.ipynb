{
 "cells": [
  {
   "cell_type": "markdown",
   "metadata": {},
   "source": [
    "# Álbum de Stickers: \"FIFA Wold Cup Qatar 2022\""
   ]
  },
  {
   "cell_type": "markdown",
   "metadata": {},
   "source": [
    "## Obtener Estampas Aleatorias"
   ]
  },
  {
   "cell_type": "code",
   "execution_count": 15,
   "metadata": {},
   "outputs": [],
   "source": [
    "import random"
   ]
  },
  {
   "cell_type": "code",
   "execution_count": 16,
   "metadata": {},
   "outputs": [],
   "source": [
    "\n",
    "def obtener_estampa(n_max: int = 670) -> int:\n",
    "    \"\"\"\n",
    "    Dado un número máximo de estampas, regresa un valor aleatorio entre 0 y\n",
    "    n_max - 1.\n",
    "    \"\"\"\n",
    "    return random.randrange(n_max)"
   ]
  },
  {
   "cell_type": "code",
   "execution_count": 17,
   "metadata": {},
   "outputs": [],
   "source": [
    "def obtener_estampas(n_estampas: int, n_max: int = 670) -> list[int]:\n",
    "    \"\"\"\n",
    "    Dado un número máximo de estampas y un número deseado de estampas, \n",
    "    regresa una lista de n_estampas con valores entre 0 y n_max - 1.\n",
    "    \"\"\"\n",
    "    estampas = []\n",
    "    for i in range(n_estampas):\n",
    "        estampas.append(obtener_estampa(n_max))\n",
    "\n",
    "    return estampas"
   ]
  },
  {
   "cell_type": "code",
   "execution_count": 18,
   "metadata": {},
   "outputs": [],
   "source": [
    "def obtener_sobre(n_max: int = 670) -> list[int]:\n",
    "    \"\"\"\n",
    "    Regresa un sobre de estampas.\n",
    "    \"\"\"\n",
    "    return obtener_estampas(n_max=n_max, n_estampas=5)"
   ]
  },
  {
   "cell_type": "code",
   "execution_count": 19,
   "metadata": {},
   "outputs": [],
   "source": [
    "def obtener_caja(n_max: int = 670) -> list[int]:\n",
    "    \"\"\"\n",
    "    Regresa una caja de estampas aleatorias.\n",
    "    \"\"\"\n",
    "    return obtener_estampas(n_max=n_max, n_estampas=500)"
   ]
  },
  {
   "cell_type": "markdown",
   "metadata": {},
   "source": [
    "## Obtener Número Real de la Estampa"
   ]
  },
  {
   "cell_type": "code",
   "execution_count": 20,
   "metadata": {},
   "outputs": [],
   "source": [
    "def obtener_codigo_estampa(n: int) -> tuple[str, int]:\n",
    "    \"\"\"\n",
    "    Dado un número entero regresa el valor de la estampa en el albúm.\n",
    "    Ejemplo: Si n = 19 -> (\"QAT\", 1)\n",
    "    \"\"\"\n",
    "\n",
    "    # código de país como aparece al reverso de las estampas\n",
    "    codigo_pais = [\n",
    "        \"QAT\", \"ECU\", \"SEN\", \"NED\", \"ENG\", \n",
    "        \"IRN\", \"USA\", \"WAL\", \"ARG\", \"KSA\", \n",
    "        \"MEX\", \"POL\", \"FRA\", \"AUS\", \"DEN\", \n",
    "        \"TUN\", \"ESP\", \"CRC\", \"GER\", \"JPN\", \n",
    "        \"BEL\", \"CAN\", \"MAR\", \"CRO\", \"BRA\", \n",
    "        \"SRB\", \"SUI\", \"CMR\", \"POR\", \"GHA\", \n",
    "        \"URU\", \"KOR\"\n",
    "    ]\n",
    "\n",
    "    # número inferior para un país dado, el orden entre 'valor_inferior_pais'\n",
    "    # y 'codigo_pais' es importante\n",
    "    valor_inferior_pais = [\n",
    "        19, 39, 59, 79, 99, \n",
    "        119, 139, 159, 179, 199, \n",
    "        219, 239, 259, 279, 299, \n",
    "        319, 339, 359, 379, 399, \n",
    "        419, 439, 459, 479, 499, \n",
    "        519, 539, 559, 579, 599, \n",
    "        619, 639\n",
    "    ]\n",
    "\n",
    "     # número superior para un país dado\n",
    "    valor_superior_pais = [num + 19 for num in valor_inferior_pais]\n",
    "\n",
    "    # caso complicado \"FWC\"\n",
    "    if n <= 18:\n",
    "        return (\"FWC\", n)\n",
    "    \n",
    "    if n >= 659:\n",
    "        return (\"FWC\", n - 640)\n",
    "\n",
    "    # demás escenarios posibles\n",
    "    for i in range(len(codigo_pais)):\n",
    "        if n <= valor_superior_pais[i]:\n",
    "            return (codigo_pais[i], n - valor_inferior_pais[i] + 1)"
   ]
  },
  {
   "cell_type": "code",
   "execution_count": 21,
   "metadata": {},
   "outputs": [],
   "source": [
    "def obtener_codigo_estampas(estampas: list[int]) -> list[tuple[str, int]]:\n",
    "    \"\"\"\n",
    "    Dada una lista de números de estampas, regresa una lista con los códigos equivalentes. \n",
    "    Ejemplo: [1, 2, 3] -> [(\"FWC\", 1), (\"FWC\", 2), (\"FWC\", 3)].\n",
    "    \"\"\"\n",
    "    codigos = [obtener_codigo_estampa(estampa) for estampa in estampas]\n",
    "    return codigos"
   ]
  },
  {
   "cell_type": "markdown",
   "metadata": {},
   "source": [
    "## Validación de Escenarios"
   ]
  },
  {
   "cell_type": "markdown",
   "metadata": {},
   "source": [
    "### Álbum Completo"
   ]
  },
  {
   "cell_type": "code",
   "execution_count": 22,
   "metadata": {},
   "outputs": [],
   "source": [
    "def eliminar_duplicados(lista: list[int]) -> list[int]:\n",
    "    return list(dict.fromkeys(lista))"
   ]
  },
  {
   "cell_type": "code",
   "execution_count": 23,
   "metadata": {},
   "outputs": [],
   "source": [
    "def esta_album_completo(estampas: list[int]) -> bool:\n",
    "    estampas_unicas = eliminar_duplicados(estampas)\n",
    "    return len(estampas_unicas) == 670"
   ]
  },
  {
   "cell_type": "markdown",
   "metadata": {},
   "source": [
    "### Secciones Completas"
   ]
  },
  {
   "cell_type": "code",
   "execution_count": 24,
   "metadata": {},
   "outputs": [],
   "source": [
    "def agrupar_por_seccion(estampas: list[int]) -> dict[str, list[tuple[str, int]]]:\n",
    "    estampas_unicas = eliminar_duplicados(estampas)\n",
    "    codigos = obtener_codigo_estampas(estampas_unicas)\n",
    "\n",
    "    # inicializando las secciones\n",
    "    codigos_album = [\n",
    "        \"QAT\", \"ECU\", \"SEN\", \"NED\", \"ENG\", \n",
    "        \"IRN\", \"USA\", \"WAL\", \"ARG\", \"KSA\", \n",
    "        \"MEX\", \"POL\", \"FRA\", \"AUS\", \"DEN\", \n",
    "        \"TUN\", \"ESP\", \"CRC\", \"GER\", \"JPN\", \n",
    "        \"BEL\", \"CAN\", \"MAR\", \"CRO\", \"BRA\", \n",
    "        \"SRB\", \"SUI\", \"CMR\", \"POR\", \"GHA\", \n",
    "        \"URU\", \"KOR\", \"FWC\"\n",
    "    ]\n",
    "\n",
    "    secciones = {}\n",
    "    for codigo_album in codigos_album:\n",
    "        secciones[codigo_album] = []\n",
    "\n",
    "    # agrupando las estampas por la sección correspondiente del álbum\n",
    "    for seccion, numero in codigos:\n",
    "        secciones[seccion].append(numero)\n",
    "\n",
    "    return secciones"
   ]
  },
  {
   "cell_type": "code",
   "execution_count": 31,
   "metadata": {},
   "outputs": [],
   "source": [
    "def numero_secciones_completas(estampas: list[int]) -> int:\n",
    "    \"\"\"\n",
    "    Dado un diccionario de sección a lista de estampas, determina el número de secciones\n",
    "    que se encuentran completas.\n",
    "    \"\"\"\n",
    "    secciones = agrupar_por_seccion(estampas)\n",
    "    n = 0\n",
    "    for seccion, estampas in secciones.items():\n",
    "        if seccion == \"FWC\":\n",
    "            if len(estampas) == 30:\n",
    "                n += 1\n",
    "        else:\n",
    "            if len(estampas) == 20:\n",
    "                n += 1\n",
    "\n",
    "    return n"
   ]
  },
  {
   "cell_type": "markdown",
   "metadata": {},
   "source": [
    "### Número de Estampas Faltantes"
   ]
  },
  {
   "cell_type": "code",
   "execution_count": 26,
   "metadata": {},
   "outputs": [],
   "source": [
    "def numero_estampas_faltantes(estampas: list[int]) -> int:\n",
    "    estampas_unicas = eliminar_duplicados(estampas)\n",
    "    return 670 - len(estampas_unicas)"
   ]
  },
  {
   "cell_type": "markdown",
   "metadata": {},
   "source": [
    "## ¡Experimentos!"
   ]
  },
  {
   "cell_type": "code",
   "execution_count": 27,
   "metadata": {},
   "outputs": [],
   "source": [
    "from tqdm import trange"
   ]
  },
  {
   "cell_type": "markdown",
   "metadata": {},
   "source": [
    "### ¿Cuál es la probabilidad de completar el álbum comprando el número mínimo de sobres?\n",
    "\n",
    "Como el álbum tiene 670 espacios (sin contar los de Coca Cola) y los sobres tienen 5 estampas la pregunta a contestar es: \n",
    "\n",
    "¿Cuál es la probabilidad de completar el álbum si compro 134 sobres exactamente?"
   ]
  },
  {
   "cell_type": "code",
   "execution_count": 30,
   "metadata": {},
   "outputs": [
    {
     "name": "stderr",
     "output_type": "stream",
     "text": [
      "100%|██████████| 1000/1000 [00:00<00:00, 3468.26it/s]"
     ]
    },
    {
     "name": "stdout",
     "output_type": "stream",
     "text": [
      "De 1,000, 0 fueron exitosos. Por lo tanto la probabilidad de completar el álbum con 134 sobres es: 0.0\n",
      "En promedio te faltarán 246 estampas.\n"
     ]
    },
    {
     "name": "stderr",
     "output_type": "stream",
     "text": [
      "\n"
     ]
    }
   ],
   "source": [
    "n_experimentos = 1_000\n",
    "n_sobres = 134\n",
    "n_estampas = n_sobres * 5\n",
    "experimentos_exitosos = 0\n",
    "total_estampas_faltantes = 0\n",
    "\n",
    "for _ in trange(n_experimentos):\n",
    "    estampas_compradas = obtener_estampas(n_estampas=n_estampas)\n",
    "    total_estampas_faltantes += numero_estampas_faltantes(estampas_compradas)\n",
    "\n",
    "    if esta_album_completo(estampas_compradas):\n",
    "        experimentos_exitosos += 1\n",
    "    \n",
    "\n",
    "probabilidad = experimentos_exitosos / n_experimentos\n",
    "faltantes_promedio = total_estampas_faltantes / n_experimentos\n",
    "\n",
    "print(f\"De {n_experimentos:,}, {experimentos_exitosos:,} fueron exitosos. Por lo tanto la probabilidad de completar el álbum con {n_sobres:,} sobres es: {probabilidad}\")\n",
    "print(f\"En promedio te faltarán {faltantes_promedio:,.0f} estampas.\")\n",
    "    "
   ]
  },
  {
   "cell_type": "markdown",
   "metadata": {},
   "source": [
    "### ¿Cuántas secciones se pueden llenar en promedio con 1 caja de sobres?"
   ]
  },
  {
   "cell_type": "code",
   "execution_count": 41,
   "metadata": {},
   "outputs": [
    {
     "name": "stderr",
     "output_type": "stream",
     "text": [
      "100%|██████████| 1000/1000 [00:00<00:00, 1307.47it/s]"
     ]
    },
    {
     "name": "stdout",
     "output_type": "stream",
     "text": [
      "En promedio con 1 cajas podrás completar 0 secciones.\n"
     ]
    },
    {
     "name": "stderr",
     "output_type": "stream",
     "text": [
      "\n"
     ]
    }
   ],
   "source": [
    "n_experimentos = 1_000\n",
    "n_cajas = 1\n",
    "n_sobres = n_cajas * 100\n",
    "n_estampas = n_sobres * 5\n",
    "experimentos_exitosos = 0\n",
    "total_secciones_completas = 0\n",
    "\n",
    "for i in trange(n_experimentos):\n",
    "    estampas_compradas = obtener_estampas(n_estampas=n_estampas)\n",
    "    total_secciones_completas += numero_secciones_completas(estampas_compradas)\n",
    "\n",
    "promedio = total_secciones_completas / n_experimentos\n",
    "\n",
    "print(f\"En promedio con {n_cajas} cajas podrás completar {promedio:.0f} secciones.\")"
   ]
  }
 ],
 "metadata": {
  "kernelspec": {
   "display_name": "Python 3 (ipykernel)",
   "language": "python",
   "name": "python3"
  },
  "language_info": {
   "codemirror_mode": {
    "name": "ipython",
    "version": 3
   },
   "file_extension": ".py",
   "mimetype": "text/x-python",
   "name": "python",
   "nbconvert_exporter": "python",
   "pygments_lexer": "ipython3",
   "version": "3.10.2"
  },
  "vscode": {
   "interpreter": {
    "hash": "a52c7a65f0af344de1214ae046a196d5dd20f58f524787b164f55c4047b2f81e"
   }
  }
 },
 "nbformat": 4,
 "nbformat_minor": 2
}
